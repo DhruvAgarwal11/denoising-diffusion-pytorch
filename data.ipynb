{
 "cells": [
  {
   "cell_type": "code",
   "execution_count": 2,
   "metadata": {},
   "outputs": [
    {
     "name": "stdout",
     "output_type": "stream",
     "text": [
      "Processed 2000 / 2000 files\n",
      "(362965, 14)\n",
      "(2835, 128, 14)\n",
      "(2835, 14, 128)\n"
     ]
    }
   ],
   "source": [
    "import os\n",
    "os.environ[\"CUDA_VISIBLE_DEVICES\"] = \"7\"\n",
    "import numpy as np\n",
    "import torch\n",
    "from denoising_diffusion_pytorch import Unet1D, GaussianDiffusion1D, Trainer1D, Dataset1D\n",
    "import sys\n",
    "sys.path.append('/home/pmendoza/Speech-Articulatory-Coding')\n",
    "from sparc import load_model\n",
    "import soundfile as sf\n",
    "import IPython.display as ipd\n",
    "import matplotlib.pyplot as plt\n",
    "import numpy as np\n",
    "import h5py\n",
    "import concurrent.futures\n",
    "from multiprocessing import cpu_count\n",
    "from accelerate import Accelerator\n",
    "\n",
    "articulatory_feature_directory = \"/data/common/LibriTTS_R/articulatory_features\"\n",
    "pitch_data_file = '/data/common/LibriTTS_R/pitch_stats.npy'\n",
    "\n",
    "pitch_stats_data = np.load(pitch_data_file, allow_pickle=True).item()\n",
    "\n",
    "def create_chunks(arrays, chunk_size):\n",
    "    all_chunks = []\n",
    "    \n",
    "    # Calculate the number of chunks (full chunks)\n",
    "    num_chunks = len(arrays) // chunk_size\n",
    "        \n",
    "    # Split the array into chunks of size (chunk_size, 14)\n",
    "    chunks = arrays[:num_chunks * chunk_size].reshape(-1, chunk_size, 14)\n",
    "        \n",
    "    # Append the chunks to the list\n",
    "    all_chunks.append(chunks)\n",
    "    \n",
    "    # Concatenate all chunks from different arrays\n",
    "    return np.concatenate(all_chunks, axis=0)\n",
    "\n",
    "def expand_and_pad(arrays, chunk_size):\n",
    "\n",
    "    num_points, num_features = arrays.shape\n",
    "    padded_array = np.zeros((num_points, num_features, chunk_size))\n",
    "    padded_array[:, :, 0] = arrays\n",
    "\n",
    "    return padded_array\n",
    "\n",
    "def load_and_transform_file(file_path, chunk_size, sample_size):\n",
    "    file_prefix = os.path.basename(file_path).split(\"_\")[0]\n",
    "    file_pitch_stats = pitch_stats_data[file_prefix]\n",
    "    \n",
    "    data = np.load(file_path, allow_pickle=True).item()\n",
    "    ema_data = data['ema']\n",
    "    pitch_data = (np.log(data['pitch']) - np.log(file_pitch_stats[0]))[:-1].reshape(-1, 1)\n",
    "    loudness_data = data['loudness'][:-1].reshape(-1, 1)\n",
    "    combined_data = np.concatenate([ema_data, pitch_data, loudness_data], axis=1)\n",
    "\n",
    "    sample_indices = np.random.choice(combined_data.shape[0], min(sample_size, combined_data.shape[0]), replace=False)\n",
    "    return combined_data[sample_indices]\n",
    "\n",
    "def get_features(chunk_size, sample_size=64, print_every=2000):\n",
    "    file_paths = [os.path.join(root, file) \n",
    "                  for root, _, files in os.walk(articulatory_feature_directory) \n",
    "                  for file in files if file.endswith(\".npy\")]\n",
    "\n",
    "    # Process files in parallel\n",
    "    # Change this to be 2000 to see\n",
    "    total_files = 2000 #len(file_paths)\n",
    "    processed_files = 0\n",
    "    with concurrent.futures.ProcessPoolExecutor(max_workers= (int)(cpu_count() / 3)) as executor:\n",
    "        results = []\n",
    "        for _, result in enumerate(executor.map(load_and_transform_file, file_paths, [chunk_size] * total_files, [sample_size] * total_files)):\n",
    "            if result is not None:\n",
    "                results.append(result)\n",
    "            processed_files += 1\n",
    "            if processed_files % print_every == 0:\n",
    "                print(f\"Processed {processed_files} / {total_files} files\")\n",
    "\n",
    "    # Concatenate and chunk results\n",
    "    combined_data = np.concatenate([res for res in results if res is not None], axis=0)\n",
    "    print(combined_data.shape)\n",
    "    if chunk_size != 1:\n",
    "        chunked_data = create_chunks(combined_data, chunk_size)\n",
    "    else:\n",
    "        chunked_data = combined_data[:, :, np.newaxis]\n",
    "    \n",
    "    print(chunked_data.shape)\n",
    "    return np.transpose(chunked_data, (0, 2, 1))\n",
    "\n",
    "\n",
    "# Call the function\n",
    "\n",
    "SEQUENCE_LENGTH = 64\n",
    "SAMPLE_SIZE = 256\n",
    "CHUNK_SIZE = 128\n",
    "TIMESTEPS = 1000\n",
    "\n",
    "all_data_printing = get_features(chunk_size=CHUNK_SIZE, sample_size=SAMPLE_SIZE)\n",
    "print(all_data_printing.shape)"
   ]
  },
  {
   "cell_type": "code",
   "execution_count": 28,
   "metadata": {},
   "outputs": [
    {
     "name": "stdout",
     "output_type": "stream",
     "text": [
      "(0, 128, 14)\n"
     ]
    }
   ],
   "source": [
    "print(all_data_printing.shape)"
   ]
  },
  {
   "cell_type": "code",
   "execution_count": 27,
   "metadata": {},
   "outputs": [
    {
     "data": {
      "text/plain": [
       "(2835, 128, 14)"
      ]
     },
     "execution_count": 27,
     "metadata": {},
     "output_type": "execute_result"
    }
   ],
   "source": [
    "arrays = [np.random.randn(362965, 14)]\n",
    "def create_chunks(arrays, chunk_size):\n",
    "    all_chunks = []\n",
    "    \n",
    "    for array in arrays:\n",
    "        # Calculate the number of chunks (full chunks)\n",
    "        num_chunks = len(array) // chunk_size\n",
    "        \n",
    "        # Split the array into chunks of size (chunk_size, 14)\n",
    "        chunks = array[:num_chunks * chunk_size].reshape(-1, chunk_size, 14)\n",
    "        \n",
    "        # Append the chunks to the list\n",
    "        all_chunks.append(chunks)\n",
    "    \n",
    "    # Concatenate all chunks from different arrays\n",
    "    return np.concatenate(all_chunks, axis=0)\n",
    "\n",
    "create_chunks(arrays, 128).shape"
   ]
  },
  {
   "cell_type": "code",
   "execution_count": null,
   "metadata": {},
   "outputs": [],
   "source": []
  }
 ],
 "metadata": {
  "kernelspec": {
   "display_name": "base",
   "language": "python",
   "name": "python3"
  },
  "language_info": {
   "codemirror_mode": {
    "name": "ipython",
    "version": 3
   },
   "file_extension": ".py",
   "mimetype": "text/x-python",
   "name": "python",
   "nbconvert_exporter": "python",
   "pygments_lexer": "ipython3",
   "version": "3.12.7"
  }
 },
 "nbformat": 4,
 "nbformat_minor": 2
}
